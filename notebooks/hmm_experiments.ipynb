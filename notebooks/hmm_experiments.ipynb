{
 "cells": [
  {
   "cell_type": "code",
   "execution_count": 13,
   "metadata": {
    "ExecuteTime": {
     "end_time": "2019-07-02T17:04:56.354487Z",
     "start_time": "2019-07-02T17:04:56.317315Z"
    }
   },
   "outputs": [],
   "source": [
    "from scripts.models import VehTraj, PedTraj, Trajectory\n",
    "from esper.widget import vgrid_widget\n",
    "from vgrid import VideoBlockFormat, NestedFormat, NamedIntervalSet, IntervalBlock\n",
    "import cv2\n",
    "import numpy as np\n",
    "import matplotlib.pyplot as plt\n",
    "import pyro\n",
    "import pyro.distributions as dist\n",
    "from pyro.poutine import trace\n",
    "import math\n",
    "from tqdm import tqdm_notebook as tqdm\n",
    "from scripts.utils import img_grid, vgrid_traj, make_batch\n",
    "import pandas as pd\n",
    "from rekall import IntervalSetMapping, IntervalSet, Interval, Bounds3D\n",
    "from enum import Enum\n",
    "from torch import tensor\n",
    "import torch\n",
    "from pyro import plate\n",
    "from pyro.infer import SVI, Trace_ELBO, TraceEnum_ELBO, JitTraceEnum_ELBO, config_enumerate\n",
    "from pyro.optim import Adam\n",
    "from pprint import pprint\n",
    "from torch.distributions import constraints\n",
    "from copy import copy\n",
    "import re\n",
    "from scripts import pattern\n",
    "from esper.spark import EsperSpark\n",
    "\n",
    "pyro.enable_validation(True)"
   ]
  },
  {
   "cell_type": "code",
   "execution_count": null,
   "metadata": {
    "ExecuteTime": {
     "end_time": "2019-06-30T17:44:10.142382Z",
     "start_time": "2019-06-30T17:43:48.303745Z"
    }
   },
   "outputs": [],
   "source": [
    "vehicles = list(Vehicle.objects.all())\n",
    "veh_trajectories = [VehTraj(veh) for veh in vehicles]\n",
    "\n",
    "pedestrians = list(Pedestrian.objects.all())\n",
    "ped_trajectories = [PedTraj(ped) for ped in pedestrians]"
   ]
  },
  {
   "cell_type": "code",
   "execution_count": null,
   "metadata": {
    "ExecuteTime": {
     "end_time": "2019-06-22T17:43:12.336610Z",
     "start_time": "2019-06-22T17:43:12.312699Z"
    }
   },
   "outputs": [],
   "source": [
    "def model(N):\n",
    "    ncat = 4\n",
    "    transition_probs = pyro.sample(\n",
    "        'transition_probs', \n",
    "        dist.Dirichlet(0.9 * torch.eye(ncat) + 0.1).to_event(1))\n",
    "    \n",
    "    state = 0\n",
    "    for i in pyro.markov(N):\n",
    "        state = pyro.sample('state_{}'.format(i), dist.Categorical(transition_probs[state]), \n",
    "                            infer={\"enumerate\": \"parallel\"})\n",
    "        pyro.sample('vel_{}'.format(i))"
   ]
  },
  {
   "cell_type": "code",
   "execution_count": null,
   "metadata": {
    "ExecuteTime": {
     "end_time": "2019-06-25T19:07:50.125088Z",
     "start_time": "2019-06-25T19:07:50.105724Z"
    }
   },
   "outputs": [],
   "source": [
    "vehicle = sample(uniform(Vehicle))\n",
    "start, end = sample(uniform_interval(vehicle.start, vehicle.end))\n",
    "stopping_car = sample(TrajectoryRegex('<+_'))\n",
    "observe(stopping_car - vehicle.trajectory()[start:end] = 0)\n",
    "\n",
    "obj = sample(uniform(Object))\n",
    "time = vehicle.trajectory()[end].frame\n",
    "observe(||obj.pos - time.pos|| = 0)"
   ]
  },
  {
   "cell_type": "code",
   "execution_count": 19,
   "metadata": {
    "ExecuteTime": {
     "end_time": "2019-07-02T18:13:05.193068Z",
     "start_time": "2019-07-02T18:13:03.061683Z"
    },
    "scrolled": false
   },
   "outputs": [
    {
     "data": {
      "application/vnd.jupyter.widget-view+json": {
       "model_id": "6395a4ac149944e3b90d57bffd1c1a87",
       "version_major": 2,
       "version_minor": 0
      },
      "text/plain": [
       "VGridWidget(vgrid_spec={'database': {'videos': [{'num_frames': 575, 'fps': 23.976, 'id': 4, 'width': 838, 'hei…"
      ]
     },
     "metadata": {},
     "output_type": "display_data"
    }
   ],
   "source": [
    "def slows_to_stop(traj, eps=0.01):\n",
    "    vel = traj.velocity(stride=3)\n",
    "    vel_mag = np.linalg.norm(vel, axis=1)\n",
    "    return vel_mag[0] > eps * 7.0 and vel_mag[-1] < eps\n",
    "\n",
    "vehicle = pattern.Vehicle()\n",
    "stopping_car = vehicle.trajectory().window(minlen=10, maxlen=30, stride=10).where(slows_to_stop)\n",
    "close_obj = pattern.Object()\n",
    "cars_stopping_for = stopping_car.end().time().match(pattern.Close(close_obj, vehicle))\n",
    "\n",
    "traces, _ = cars_stopping_for.eval()\n",
    "vgrid_traj([(trace[stopping_car], trace[close_obj].trajectory()) for trace in traces[:50]])"
   ]
  },
  {
   "cell_type": "code",
   "execution_count": 5,
   "metadata": {
    "ExecuteTime": {
     "end_time": "2019-07-02T16:57:50.552590Z",
     "start_time": "2019-07-02T16:57:49.497271Z"
    }
   },
   "outputs": [
    {
     "name": "stderr",
     "output_type": "stream",
     "text": [
      "100%|██████████████████████████████████████████████████████████████████████████████████████████████████████████████████████████████████████████████████████████████████████████| 28/28 [00:00<00:00, 39.12it/s]\n"
     ]
    },
    {
     "data": {
      "application/vnd.jupyter.widget-view+json": {
       "model_id": "b262265d9c0b4b52910fa8b17261abdc",
       "version_major": 2,
       "version_minor": 0
      },
      "text/plain": [
       "VGridWidget(vgrid_spec={'database': {'videos': [{'num_frames': 263, 'fps': 23.976, 'id': 22, 'width': 786, 'he…"
      ]
     },
     "metadata": {},
     "output_type": "display_data"
    }
   ],
   "source": [
    "def turning_left(traj):\n",
    "    turn = traj.pos[0].psi - traj.pos[-1].psi\n",
    "    return abs(turn - math.pi / 2)\n",
    "        \n",
    "vehicle = pattern.Vehicle()\n",
    "turning_car = vehicle.trajectory().weight(turning_left)\n",
    "\n",
    "traces, scores = turning_car.eval()\n",
    "vgrid_traj([trace[turning_car] for trace in traces[:10]])"
   ]
  },
  {
   "cell_type": "code",
   "execution_count": 4,
   "metadata": {
    "ExecuteTime": {
     "end_time": "2019-07-02T16:24:30.463957Z",
     "start_time": "2019-07-02T16:24:10.538265Z"
    },
    "scrolled": false
   },
   "outputs": [
    {
     "name": "stderr",
     "output_type": "stream",
     "text": [
      "100%|██████████████████████████████████████████████████████████████████████████████████████████████████████████████████████████████████████████████████████████████████████████| 28/28 [00:19<00:00,  1.16it/s]\n"
     ]
    },
    {
     "data": {
      "application/vnd.jupyter.widget-view+json": {
       "model_id": "f7caa932a2b34d8f9c71ac4bdba8728c",
       "version_major": 2,
       "version_minor": 0
      },
      "text/plain": [
       "VGridWidget(vgrid_spec={'database': {'videos': [{'num_frames': 166, 'fps': 23.976, 'id': 2, 'width': 808, 'hei…"
      ]
     },
     "metadata": {},
     "output_type": "display_data"
    }
   ],
   "source": [
    "def is_speeding(traj):\n",
    "    vel = traj.velocity(stride=3)\n",
    "    vel_mag = np.linalg.norm(vel, axis=1)\n",
    "    return 1/vel_mag.mean()\n",
    "\n",
    "def is_close(tup):\n",
    "    (o1, o2) = tup\n",
    "    start = max(o1.pos[0].frame, o2.pos[0].frame)\n",
    "    end = min(o1.pos[-1].frame, o2.pos[-1].frame)\n",
    "    diff = np.array([o1.frame(t).for_numpy() - o2.frame(t).for_numpy() for t in range(start, end+1)])\n",
    "    if len(diff) == 0:\n",
    "        return 10000000\n",
    "    else:\n",
    "        return np.linalg.norm(diff).min()\n",
    "\n",
    "vehicle = pattern.Vehicle()\n",
    "pedestrian = pattern.Pedestrian().trajectory()\n",
    "fast_car = vehicle.trajectory().window(minlen=6, maxlen=6+1).weight(is_speeding, max=1.5)\n",
    "fast_car_near_person = fast_car.join(pedestrian).weight(is_close)\n",
    "\n",
    "traces, scores = fast_car_near_person.eval()\n",
    "vgrid_traj([(trace[fast_car], trace[pedestrian]) for trace in traces[:30]])"
   ]
  }
 ],
 "metadata": {
  "kernelspec": {
   "display_name": "Django Shell-Plus",
   "language": "python",
   "name": "django_extensions"
  },
  "language_info": {
   "codemirror_mode": {
    "name": "ipython",
    "version": 3
   },
   "file_extension": ".py",
   "mimetype": "text/x-python",
   "name": "python",
   "nbconvert_exporter": "python",
   "pygments_lexer": "ipython3",
   "version": "3.5.2"
  },
  "toc": {
   "nav_menu": {},
   "number_sections": true,
   "sideBar": true,
   "skip_h1_title": false,
   "toc_cell": false,
   "toc_position": {},
   "toc_section_display": "block",
   "toc_window_display": false
  }
 },
 "nbformat": 4,
 "nbformat_minor": 2
}
