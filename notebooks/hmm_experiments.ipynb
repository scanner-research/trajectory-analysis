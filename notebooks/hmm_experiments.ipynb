{
 "cells": [
  {
   "cell_type": "code",
   "execution_count": 7,
   "metadata": {
    "ExecuteTime": {
     "end_time": "2019-06-22T18:08:41.933197Z",
     "start_time": "2019-06-22T18:08:41.909301Z"
    }
   },
   "outputs": [],
   "source": [
    "from scripts.models import VehTraj, PedTraj\n",
    "from esper.widget import vgrid_widget\n",
    "from vgrid import VideoBlockFormat, NestedFormat, NamedIntervalSet, IntervalBlock\n",
    "import cv2\n",
    "import numpy as np\n",
    "import matplotlib.pyplot as plt\n",
    "import pyro\n",
    "import pyro.distributions as dist\n",
    "from pyro.poutine import trace\n",
    "import math\n",
    "from tqdm import tqdm_notebook as tqdm\n",
    "from scripts.utils import img_grid, vgrid_traj, make_batch\n",
    "import pandas as pd\n",
    "from rekall import IntervalSetMapping, IntervalSet, Interval, Bounds3D\n",
    "from enum import Enum\n",
    "from torch import tensor\n",
    "import torch\n",
    "from pyro import plate\n",
    "from pyro.infer import SVI, Trace_ELBO, TraceEnum_ELBO, JitTraceEnum_ELBO, config_enumerate\n",
    "from pyro.optim import Adam\n",
    "from pprint import pprint\n",
    "from torch.distributions import constraints\n",
    "from copy import copy\n",
    "import re\n",
    "from scripts import pattern\n",
    "pyro.enable_validation(True)"
   ]
  },
  {
   "cell_type": "code",
   "execution_count": 2,
   "metadata": {
    "ExecuteTime": {
     "end_time": "2019-06-22T17:07:30.928959Z",
     "start_time": "2019-06-22T17:07:09.592049Z"
    }
   },
   "outputs": [],
   "source": [
    "vehicles = list(Vehicle.objects.all())\n",
    "veh_trajectories = [VehTraj(veh) for veh in vehicles]\n",
    "\n",
    "pedestrians = list(Pedestrian.objects.all())\n",
    "ped_trajectories = [PedTraj(ped) for ped in pedestrians]"
   ]
  },
  {
   "cell_type": "code",
   "execution_count": 5,
   "metadata": {
    "ExecuteTime": {
     "end_time": "2019-06-22T17:43:12.336610Z",
     "start_time": "2019-06-22T17:43:12.312699Z"
    }
   },
   "outputs": [],
   "source": [
    "def model(N):\n",
    "    ncat = 4\n",
    "    transition_probs = pyro.sample(\n",
    "        'transition_probs', \n",
    "        dist.Dirichlet(0.9 * torch.eye(ncat) + 0.1).to_event(1))\n",
    "    \n",
    "    state = 0\n",
    "    for i in pyro.markov(N):\n",
    "        state = pyro.sample('state_{}'.format(i), dist.Categorical(transition_probs[state]), \n",
    "                            infer={\"enumerate\": \"parallel\"})\n",
    "        pyro.sample('vel_{}'.format(i))"
   ]
  },
  {
   "cell_type": "code",
   "execution_count": 223,
   "metadata": {
    "ExecuteTime": {
     "end_time": "2019-06-25T19:07:50.125088Z",
     "start_time": "2019-06-25T19:07:50.105724Z"
    }
   },
   "outputs": [],
   "source": [
    "vehicle = sample(uniform(Vehicle))\n",
    "start, end = sample(uniform_interval(vehicle.start, vehicle.end))\n",
    "stopping_car = sample(TrajectoryRegex('<+_'))\n",
    "observe(stopping_car - vehicle.trajectory()[start:end] = 0)\n",
    "\n",
    "obj = sample(uniform(Object))\n",
    "time = vehicle.trajectory()[end].frame\n",
    "observe(||obj.pos - time.pos|| = 0)"
   ]
  },
  {
   "cell_type": "code",
   "execution_count": 240,
   "metadata": {
    "ExecuteTime": {
     "end_time": "2019-06-25T23:04:55.618284Z",
     "start_time": "2019-06-25T23:02:13.100444Z"
    }
   },
   "outputs": [
    {
     "data": {
      "application/vnd.jupyter.widget-view+json": {
       "model_id": "c81eb83a6c3f4723bfff1c97e19a87a2",
       "version_major": 2,
       "version_minor": 0
      },
      "text/plain": [
       "VGridWidget(vgrid_spec={'database': {'videos': [{'path': '/app/data/vci-dataset-dut/data/videos/intersection_0…"
      ]
     },
     "metadata": {},
     "output_type": "display_data"
    }
   ],
   "source": [
    "vehicle = pattern.Vehicle()\n",
    "stopping_car = vehicle.trajectory().window(minlen=10, maxlen=30).filter(pattern.slowing_down)\n",
    "close_obj = pattern.Object()\n",
    "cars_stopping_for = \\\n",
    "    stopping_car.end().time() \\\n",
    "    .match(pattern.Close(close_obj, vehicle))\n",
    "\n",
    "traces, _ = cars_stopping_for.eval(video=Video.objects.all()[3])\n",
    "vgrid_traj([trace[stopping_car] for trace in traces[:1]])"
   ]
  },
  {
   "cell_type": "code",
   "execution_count": 231,
   "metadata": {
    "ExecuteTime": {
     "end_time": "2019-06-25T22:33:38.588180Z",
     "start_time": "2019-06-25T22:33:37.759241Z"
    }
   },
   "outputs": [
    {
     "data": {
      "application/vnd.jupyter.widget-view+json": {
       "model_id": "3022a9ac135c4e70b0a1549a397e516a",
       "version_major": 2,
       "version_minor": 0
      },
      "text/plain": [
       "VGridWidget(vgrid_spec={'database': {'videos': [{'path': '/app/data/vci-dataset-dut/data/videos/intersection_1…"
      ]
     },
     "metadata": {},
     "output_type": "display_data"
    }
   ],
   "source": [
    "vehicle = pattern.Vehicle()\n",
    "turning_car = vehicle.trajectory().match(pattern.TurningLeft())\n",
    "\n",
    "traces, scores = turning_car.eval()\n",
    "vgrid_traj([trace[turning_car] for trace in traces[:10]])"
   ]
  },
  {
   "cell_type": "code",
   "execution_count": 233,
   "metadata": {
    "ExecuteTime": {
     "end_time": "2019-06-25T22:36:42.053842Z",
     "start_time": "2019-06-25T22:36:42.024197Z"
    }
   },
   "outputs": [
    {
     "ename": "AttributeError",
     "evalue": "module 'scripts.pattern' has no attribute 'Speeding'",
     "output_type": "error",
     "traceback": [
      "\u001b[0;31m---------------------------------------------------------------------------\u001b[0m",
      "\u001b[0;31mAttributeError\u001b[0m                            Traceback (most recent call last)",
      "\u001b[0;32m<ipython-input-233-8421a9d04a89>\u001b[0m in \u001b[0;36m<module>\u001b[0;34m()\u001b[0m\n\u001b[1;32m      1\u001b[0m \u001b[0mvehicle\u001b[0m \u001b[0;34m=\u001b[0m \u001b[0mpattern\u001b[0m\u001b[0;34m.\u001b[0m\u001b[0mVehicle\u001b[0m\u001b[0;34m(\u001b[0m\u001b[0;34m)\u001b[0m\u001b[0;34m\u001b[0m\u001b[0m\n\u001b[1;32m      2\u001b[0m \u001b[0mpedestrian\u001b[0m \u001b[0;34m=\u001b[0m \u001b[0mpattern\u001b[0m\u001b[0;34m.\u001b[0m\u001b[0mPedestrian\u001b[0m\u001b[0;34m(\u001b[0m\u001b[0;34m)\u001b[0m\u001b[0;34m\u001b[0m\u001b[0m\n\u001b[0;32m----> 3\u001b[0;31m \u001b[0mfast_car\u001b[0m \u001b[0;34m=\u001b[0m \u001b[0mvehicle\u001b[0m\u001b[0;34m.\u001b[0m\u001b[0mtrajectory\u001b[0m\u001b[0;34m(\u001b[0m\u001b[0;34m)\u001b[0m\u001b[0;34m.\u001b[0m\u001b[0mmatch\u001b[0m\u001b[0;34m(\u001b[0m\u001b[0mpattern\u001b[0m\u001b[0;34m.\u001b[0m\u001b[0mSpeeding\u001b[0m\u001b[0;34m(\u001b[0m\u001b[0;34m)\u001b[0m\u001b[0;34m)\u001b[0m\u001b[0;34m\u001b[0m\u001b[0m\n\u001b[0m",
      "\u001b[0;31mAttributeError\u001b[0m: module 'scripts.pattern' has no attribute 'Speeding'"
     ]
    }
   ],
   "source": [
    "vehicle = pattern.Vehicle()\n",
    "pedestrian = pattern.Pedestrian()\n",
    "fast_car = vehicle.trajectory().match(pattern.Speeding())\n"
   ]
  }
 ],
 "metadata": {
  "kernelspec": {
   "display_name": "Django Shell-Plus",
   "language": "python",
   "name": "django_extensions"
  },
  "language_info": {
   "codemirror_mode": {
    "name": "ipython",
    "version": 3
   },
   "file_extension": ".py",
   "mimetype": "text/x-python",
   "name": "python",
   "nbconvert_exporter": "python",
   "pygments_lexer": "ipython3",
   "version": "3.5.2"
  },
  "toc": {
   "nav_menu": {},
   "number_sections": true,
   "sideBar": true,
   "skip_h1_title": false,
   "toc_cell": false,
   "toc_position": {},
   "toc_section_display": "block",
   "toc_window_display": false
  }
 },
 "nbformat": 4,
 "nbformat_minor": 2
}
