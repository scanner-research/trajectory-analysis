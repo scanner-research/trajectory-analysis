{
 "cells": [
  {
   "cell_type": "code",
   "execution_count": 8,
   "metadata": {
    "ExecuteTime": {
     "end_time": "2019-06-16T17:56:00.979609Z",
     "start_time": "2019-06-16T17:56:00.955037Z"
    }
   },
   "outputs": [
    {
     "name": "stderr",
     "output_type": "stream",
     "text": [
      "/usr/local/lib/python3.5/dist-packages/django/db/models/base.py:316: RuntimeWarning: Model 'server.video' was already registered. Reloading models is not advised as it can lead to inconsistencies, most notably with related models.\n",
      "  new_class._meta.apps.register_model(new_class._meta.app_label, new_class)\n",
      "/usr/local/lib/python3.5/dist-packages/django/db/models/base.py:316: RuntimeWarning: Model 'server.pedestrian' was already registered. Reloading models is not advised as it can lead to inconsistencies, most notably with related models.\n",
      "  new_class._meta.apps.register_model(new_class._meta.app_label, new_class)\n",
      "/usr/local/lib/python3.5/dist-packages/django/db/models/base.py:316: RuntimeWarning: Model 'server.pedpos' was already registered. Reloading models is not advised as it can lead to inconsistencies, most notably with related models.\n",
      "  new_class._meta.apps.register_model(new_class._meta.app_label, new_class)\n",
      "/usr/local/lib/python3.5/dist-packages/django/db/models/base.py:316: RuntimeWarning: Model 'server.vehicle' was already registered. Reloading models is not advised as it can lead to inconsistencies, most notably with related models.\n",
      "  new_class._meta.apps.register_model(new_class._meta.app_label, new_class)\n",
      "/usr/local/lib/python3.5/dist-packages/django/db/models/base.py:316: RuntimeWarning: Model 'server.vehpos' was already registered. Reloading models is not advised as it can lead to inconsistencies, most notably with related models.\n",
      "  new_class._meta.apps.register_model(new_class._meta.app_label, new_class)\n"
     ]
    }
   ],
   "source": [
    "from scripts.models import *\n",
    "from glob import glob\n",
    "import pandas as pd\n",
    "import os\n",
    "from tqdm import tqdm"
   ]
  },
  {
   "cell_type": "code",
   "execution_count": 9,
   "metadata": {
    "ExecuteTime": {
     "end_time": "2019-06-16T17:56:02.560098Z",
     "start_time": "2019-06-16T17:56:02.548211Z"
    }
   },
   "outputs": [],
   "source": [
    "DATA_DIR = '/app/data/vci-dataset-dut/data'\n",
    "video_paths = glob('{}/videos/*.mp4'.format(DATA_DIR))"
   ]
  },
  {
   "cell_type": "code",
   "execution_count": 3,
   "metadata": {},
   "outputs": [],
   "source": [
    "videos = [Video.infer_ffmpeg(p) for p in video_paths]\n",
    "\n",
    "for v in videos:\n",
    "    v.save()"
   ]
  },
  {
   "cell_type": "code",
   "execution_count": 10,
   "metadata": {
    "ExecuteTime": {
     "end_time": "2019-06-16T17:56:03.870235Z",
     "start_time": "2019-06-16T17:56:03.856375Z"
    }
   },
   "outputs": [],
   "source": [
    "videos = Video.objects.all()"
   ]
  },
  {
   "cell_type": "code",
   "execution_count": 12,
   "metadata": {
    "ExecuteTime": {
     "end_time": "2019-06-16T17:56:21.917182Z",
     "start_time": "2019-06-16T17:56:21.869815Z"
    }
   },
   "outputs": [],
   "source": [
    "for video in videos:\n",
    "    base_name = '_'.join(os.path.basename(video.path).split('_')[:2])\n",
    "    p2m = float(open('{}/ratios/{}_ratio_pixel2meter.txt'.format(DATA_DIR, base_name)).read())\n",
    "    video.pixel2meter = p2m\n",
    "    video.save()"
   ]
  },
  {
   "cell_type": "code",
   "execution_count": 54,
   "metadata": {},
   "outputs": [
    {
     "name": "stderr",
     "output_type": "stream",
     "text": [
      "100%|████████████████████████████████████████████████████████████████████████████████████████████████████████████████████████████████████████████████████████████████████████| 27/27 [03:06<00:00,  9.63s/it]\n"
     ]
    }
   ],
   "source": [
    "for video in tqdm(videos[1:]):\n",
    "    base_name = '_'.join(os.path.basename(video.path).split('_')[:2])\n",
    "\n",
    "    veh_pos = []\n",
    "    df = pd.read_csv('{}/trajectories_filtered/{}_traj_veh_filtered.csv'.format(DATA_DIR, base_name))\n",
    "    veh = {}\n",
    "    for _, row in df.iterrows():\n",
    "        if not row.id in veh:\n",
    "            veh[row.id] = Vehicle(video=video)\n",
    "    Vehicle.objects.bulk_create(veh.values())\n",
    "\n",
    "    for _, row in df.iterrows():\n",
    "        veh_pos.append(VehPos(\n",
    "            frame=row.frame,\n",
    "            veh=veh[row.id],\n",
    "            x=row.x_est,\n",
    "            y=row.y_est,\n",
    "            psi=row.psi_est,\n",
    "            vel=row.vel_est\n",
    "        ))\n",
    "    VehPos.objects.bulk_create(veh_pos)  \n",
    "\n",
    "    ped_pos = []\n",
    "    df = pd.read_csv('{}/trajectories_filtered/{}_traj_ped_filtered.csv'.format(DATA_DIR, base_name))\n",
    "    ped = {}\n",
    "    for _, row in df.iterrows():\n",
    "        if not row.id in ped:\n",
    "            ped[row.id] = Pedestrian(video=video)\n",
    "    Pedestrian.objects.bulk_create(ped.values())\n",
    "\n",
    "    for _, row in df.iterrows():\n",
    "        ped_pos.append(PedPos(\n",
    "            frame=row.frame,\n",
    "            ped=ped[row.id],\n",
    "            x=row.x_est,\n",
    "            y=row.y_est,\n",
    "            vx=row.vy_est,\n",
    "            vy=row.vx_est\n",
    "        ))\n",
    "    PedPos.objects.bulk_create(ped_pos)"
   ]
  }
 ],
 "metadata": {
  "kernelspec": {
   "display_name": "Django Shell-Plus",
   "language": "python",
   "name": "django_extensions"
  },
  "language_info": {
   "codemirror_mode": {
    "name": "ipython",
    "version": 3
   },
   "file_extension": ".py",
   "mimetype": "text/x-python",
   "name": "python",
   "nbconvert_exporter": "python",
   "pygments_lexer": "ipython3",
   "version": "3.5.2"
  },
  "toc": {
   "nav_menu": {},
   "number_sections": true,
   "sideBar": true,
   "skip_h1_title": false,
   "toc_cell": false,
   "toc_position": {},
   "toc_section_display": "block",
   "toc_window_display": false
  }
 },
 "nbformat": 4,
 "nbformat_minor": 2
}
