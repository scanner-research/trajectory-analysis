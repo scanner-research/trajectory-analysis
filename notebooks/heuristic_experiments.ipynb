{
 "cells": [
  {
   "cell_type": "code",
   "execution_count": 287,
   "metadata": {
    "ExecuteTime": {
     "end_time": "2019-06-21T00:30:42.078052Z",
     "start_time": "2019-06-21T00:30:42.047300Z"
    }
   },
   "outputs": [],
   "source": [
    "from scripts.models import VehTraj, PedTraj\n",
    "from esper.widget import vgrid_widget\n",
    "from vgrid import VideoBlockFormat, NestedFormat, NamedIntervalSet, IntervalBlock\n",
    "import cv2\n",
    "import numpy as np\n",
    "import matplotlib.pyplot as plt\n",
    "import pyro\n",
    "import pyro.distributions as dist\n",
    "from pyro.poutine import trace\n",
    "import math\n",
    "from tqdm import tqdm_notebook as tqdm\n",
    "from scripts.utils import img_grid, vgrid_traj, make_batch\n",
    "import pandas as pd\n",
    "from rekall import IntervalSetMapping, IntervalSet, Interval, Bounds3D\n",
    "from enum import Enum\n",
    "from torch import tensor\n",
    "import torch\n",
    "from pyro import plate\n",
    "from pyro.infer import SVI, Trace_ELBO, TraceEnum_ELBO, JitTraceEnum_ELBO, config_enumerate\n",
    "from pyro.optim import Adam\n",
    "from pprint import pprint\n",
    "from torch.distributions import constraints\n",
    "from copy import copy\n",
    "import re\n",
    "pyro.enable_validation(True)"
   ]
  },
  {
   "cell_type": "code",
   "execution_count": 288,
   "metadata": {
    "ExecuteTime": {
     "end_time": "2019-06-21T00:31:12.213206Z",
     "start_time": "2019-06-21T00:30:49.310739Z"
    }
   },
   "outputs": [],
   "source": [
    "vehicles = list(Vehicle.objects.all())\n",
    "veh_trajectories = [VehTraj(veh) for veh in vehicles]\n",
    "\n",
    "pedestrians = list(Pedestrian.objects.all())\n",
    "ped_trajectories = [PedTraj(ped) for ped in pedestrians]"
   ]
  },
  {
   "cell_type": "code",
   "execution_count": 519,
   "metadata": {
    "ExecuteTime": {
     "end_time": "2019-06-22T16:59:57.819129Z",
     "start_time": "2019-06-22T16:59:57.771925Z"
    }
   },
   "outputs": [],
   "source": [
    "class MoveState(Enum):\n",
    "    Moving = 0\n",
    "    Slowing = 1\n",
    "    Stopped = 2\n",
    "    Speeding = 3\n",
    "        \n",
    "    def classify(vel_seq):\n",
    "        if vel_seq.mean() <= 0.04:\n",
    "            return MoveState.Stopped\n",
    "        elif vel_seq.std() <= 0.015:\n",
    "            return MoveState.Moving\n",
    "        elif vel_seq[0] >= vel_seq[-1]:\n",
    "            return MoveState.Slowing\n",
    "        else:\n",
    "            return MoveState.Speeding  \n",
    "   \n",
    "    def to_char(self):\n",
    "        if self == MoveState.Moving:\n",
    "            return 'o'\n",
    "        elif self == MoveState.Slowing:\n",
    "            return '<'\n",
    "        elif self == MoveState.Stopped:\n",
    "            return '_'\n",
    "        else:\n",
    "            return '>'\n",
    "        \n",
    "    @classmethod\n",
    "    def model(cls, N):\n",
    "        ncat = len(cls)\n",
    "        state = cls(pyro.sample(\n",
    "            'state', dist.Categorical(torch.full((ncat,), 1/ncat)), infer={\"enumerate\": \"sequential\"}).int().item())\n",
    "        mean = pyro.sample('p_vel_mean', dist.Uniform(0.04, 1.))\n",
    "        start = pyro.sample('p_slow_start', dist.Uniform(0., 1.))\n",
    "        length = 1 - pyro.sample('p_slow_length', dist.Exponential(5.))\n",
    "        start = pyro.sample('p_speed_start', dist.Uniform(0., 1.))\n",
    "        length = 1 - pyro.sample('p_speed_length', dist.Exponential(5.))\n",
    "        if state == MoveState.Stopped:\n",
    "            return [pyro.sample('vel_seq_{}'.format(i), dist.Normal(0, 0.02))\n",
    "                    for i in pyro.plate('stopped_plate', N)]\n",
    "        elif state == MoveState.Moving:\n",
    "            return [pyro.sample('vel_seq_{}'.format(i), dist.Normal(mean, 0.02))\n",
    "                    for i in pyro.plate('moving_plate', N)]\n",
    "        elif state == MoveState.Slowing:\n",
    "\n",
    "            #length = 1 - pyro.sample('p_slow_length', dist.Exponential(5.))\n",
    "            return [pyro.sample('vel_seq_{}'.format(i), dist.Normal(start - length * i / N, 0.01)) \n",
    "                    for i in pyro.markov(range(N))]\n",
    "        elif state == MoveState.Speeding:\n",
    "\n",
    "            return [pyro.sample('vel_seq_{}'.format(i), dist.Normal(start + length * i / N, 0.01)) \n",
    "                    for i in pyro.markov(range(N))]"
   ]
  },
  {
   "cell_type": "code",
   "execution_count": 449,
   "metadata": {
    "ExecuteTime": {
     "end_time": "2019-06-21T02:45:52.058858Z",
     "start_time": "2019-06-21T02:45:51.945374Z"
    }
   },
   "outputs": [
    {
     "data": {
      "application/vnd.jupyter.widget-view+json": {
       "model_id": "33ac3e3774ea46e59da93ab6d1d5fd1b",
       "version_major": 2,
       "version_minor": 0
      },
      "text/plain": [
       "HBox(children=(IntProgress(value=0, max=69), HTML(value='')))"
      ]
     },
     "metadata": {},
     "output_type": "display_data"
    },
    {
     "name": "stdout",
     "output_type": "stream",
     "text": [
      "\n"
     ]
    }
   ],
   "source": [
    "def compute_window_size(video):\n",
    "    return int(video.fps/2)\n",
    "    \n",
    "batches = []\n",
    "batches_flat = []\n",
    "batch_traj = []\n",
    "batch_traj_flat = []\n",
    "for traj in veh_trajectories:\n",
    "    points = traj.for_numpy()\n",
    "    window_size = compute_window_size(traj.obj.video)\n",
    "    vels = points[::3][1:] - points[::3][:-1]\n",
    "    vel_mag = np.linalg.norm(vels, axis=1)\n",
    "    batches.append(signal_batch(vel_mag, window_size))\n",
    "    batch_traj.append([traj.index(lambda t: t[i*window_size*3:(i+1)*window_size*3]) for i in range(len(batches[-1]))])\n",
    "\n",
    "batches_flat = [b for l in batches for b in l]\n",
    "batch_traj_flat = [t for l in batch_traj for t in l]\n",
    "\n",
    "pred_classes = [\n",
    "    [MoveState.classify(batch) for batch in l]\n",
    "    for l in tqdm(batches)\n",
    "]\n",
    "pred_classes_flat = [p for l in pred_classes for p in l]"
   ]
  },
  {
   "cell_type": "code",
   "execution_count": 537,
   "metadata": {
    "ExecuteTime": {
     "end_time": "2019-06-22T17:02:28.768688Z",
     "start_time": "2019-06-22T17:02:23.330949Z"
    }
   },
   "outputs": [
    {
     "data": {
      "application/vnd.jupyter.widget-view+json": {
       "model_id": "d506a3abf0b849c6a7f063d34b2b915e",
       "version_major": 2,
       "version_minor": 0
      },
      "text/plain": [
       "HBox(children=(IntProgress(value=0, max=1), HTML(value='')))"
      ]
     },
     "metadata": {},
     "output_type": "display_data"
    }
   ],
   "source": [
    "from pyro.contrib.autoguide import AutoGuideList, AutoDelta\n",
    "from scripts.utils import AutoDiscreteSequential\n",
    "from pyro import poutine\n",
    "from torch.distributions import constraints\n",
    "\n",
    "state_posterior = []\n",
    "for batch in tqdm(batches_flat[:1]):\n",
    "    pyro.clear_param_store()\n",
    "\n",
    "    batch = torch.from_numpy(batches[0][0]).float()\n",
    "    N = len(batch)\n",
    "    cond_model = lambda: pyro.condition(MoveState.model, {'vel_seq_{}'.format(i): batch[i] for i in range(N)})(N)\n",
    "\n",
    "    guide = AutoGuideList(cond_model)\n",
    "    guide.add(AutoDelta(poutine.block(cond_model, expose_fn=lambda msg: msg['name'].startswith('p_'))))\n",
    "    guide.add(AutoDiscreteSequential(poutine.block(cond_model, expose=['state'])))\n",
    "    \n",
    "    svi = SVI(\n",
    "        model=cond_model, \n",
    "        guide=guide,\n",
    "        optim=Adam({'lr': 0.1}), \n",
    "        loss=TraceEnum_ELBO(max_plate_nesting=1))\n",
    "    losses = []\n",
    "    for _ in range(50):\n",
    "        losses.append(svi.step())\n",
    "     \n",
    "    state_posterior.append(pyro.param('auto_state_probs').clone())"
   ]
  },
  {
   "cell_type": "code",
   "execution_count": 520,
   "metadata": {
    "ExecuteTime": {
     "end_time": "2019-06-22T16:59:59.583501Z",
     "start_time": "2019-06-22T16:59:59.568448Z"
    }
   },
   "outputs": [],
   "source": [
    "scores = np.array([p[MoveState.Slowing.value].item() for p in state_posterior])\n",
    "batches_sorted = np.argsort(scores)[::-1]"
   ]
  },
  {
   "cell_type": "code",
   "execution_count": 504,
   "metadata": {
    "ExecuteTime": {
     "end_time": "2019-06-21T03:18:27.561476Z",
     "start_time": "2019-06-21T03:18:27.538935Z"
    }
   },
   "outputs": [
    {
     "data": {
      "text/plain": [
       "array([0.00327484, 0.00339094, 0.00371159, 0.00378335, 0.00471521,\n",
       "       0.00487807, 0.00566505, 0.00664504, 0.00942859, 0.00976891,\n",
       "       0.00989294, 0.0104405 , 0.0108022 , 0.01137481, 0.01231527,\n",
       "       0.01366224, 0.01367114, 0.01470569, 0.01497779, 0.01908691,\n",
       "       0.02102455, 0.0273417 , 0.03347053, 0.03867813, 0.03978542,\n",
       "       0.04022329, 0.05513223, 0.0655796 , 0.08065056, 0.08223477,\n",
       "       0.0890635 , 0.10028731, 0.10750953, 0.10877361, 0.1231674 ,\n",
       "       0.18338451, 0.19029769, 0.22513543, 0.22552331, 0.24423394,\n",
       "       0.29427391, 0.29712784, 0.30337724, 0.31935424, 0.32441095,\n",
       "       0.33964455, 0.34921095, 0.36726049, 0.37692177, 0.40990138,\n",
       "       0.41004571, 0.4110817 , 0.41637796, 0.41878894, 0.4217723 ,\n",
       "       0.42301056, 0.42321721, 0.42372006, 0.42376339, 0.42471448,\n",
       "       0.42545828, 0.43051496, 0.43144295, 0.4379659 , 0.44233748,\n",
       "       0.44455779, 0.44617155, 0.4473902 , 0.4502835 , 0.45340228,\n",
       "       0.45363969, 0.45550957, 0.45634079, 0.45764124, 0.45935875,\n",
       "       0.46130073, 0.46160051, 0.46276098, 0.46401033, 0.46567413,\n",
       "       0.46680641, 0.46801141, 0.4680897 , 0.47068274, 0.47122648,\n",
       "       0.47137824, 0.47509548, 0.4759863 , 0.4767161 , 0.47967538,\n",
       "       0.48056191, 0.48089314, 0.48233962, 0.48648134, 0.4873333 ,\n",
       "       0.48940235, 0.48949641, 0.48966402, 0.49186727, 0.49202186])"
      ]
     },
     "execution_count": 504,
     "metadata": {},
     "output_type": "execute_result"
    }
   ],
   "source": [
    "np.sort(scores)"
   ]
  },
  {
   "cell_type": "code",
   "execution_count": 498,
   "metadata": {
    "ExecuteTime": {
     "end_time": "2019-06-21T03:17:55.657143Z",
     "start_time": "2019-06-21T03:17:55.275955Z"
    }
   },
   "outputs": [
    {
     "data": {
      "application/vnd.jupyter.widget-view+json": {
       "model_id": "7644190633b743fb9c199631331a449d",
       "version_major": 2,
       "version_minor": 0
      },
      "text/plain": [
       "VGridWidget(vgrid_spec={'interval_blocks': [{'video_id': 1, 'interval_sets': [{'interval_set': [{'payload': {'…"
      ]
     },
     "metadata": {},
     "output_type": "display_data"
    }
   ],
   "source": [
    "vgrid_traj([batch_traj_flat[i] for i in batches_sorted[:100]])"
   ]
  },
  {
   "cell_type": "code",
   "execution_count": 450,
   "metadata": {
    "ExecuteTime": {
     "end_time": "2019-06-21T02:45:55.051999Z",
     "start_time": "2019-06-21T02:45:54.780309Z"
    },
    "scrolled": false
   },
   "outputs": [
    {
     "data": {
      "application/vnd.jupyter.widget-view+json": {
       "model_id": "10d4c7b801634ea0bf847f76408fa1f1",
       "version_major": 2,
       "version_minor": 0
      },
      "text/plain": [
       "VGridWidget(vgrid_spec={'interval_blocks': [{'video_id': 1, 'interval_sets': [{'interval_set': [{'payload': {'…"
      ]
     },
     "metadata": {},
     "output_type": "display_data"
    }
   ],
   "source": [
    "vgrid_traj([batch_traj_flat[i] for i in range(len(batches_flat)) if pred_classes_flat[i] == MoveState.Slowing])"
   ]
  },
  {
   "cell_type": "code",
   "execution_count": 451,
   "metadata": {
    "ExecuteTime": {
     "end_time": "2019-06-21T02:45:56.571487Z",
     "start_time": "2019-06-21T02:45:56.543560Z"
    }
   },
   "outputs": [
    {
     "data": {
      "text/plain": [
       "['___________',\n",
       " '___________',\n",
       " '<<oooooo>o',\n",
       " '<oo',\n",
       " '>>>',\n",
       " '________',\n",
       " '________',\n",
       " '<<>>>',\n",
       " 'o>o',\n",
       " '<o',\n",
       " '__________________',\n",
       " '__________________',\n",
       " '<__oooooooo>><',\n",
       " '<>>>',\n",
       " 'oooooo>',\n",
       " 'oo',\n",
       " '>o>',\n",
       " 'oo<>>',\n",
       " 'ooo>>o',\n",
       " 'oo>oo',\n",
       " '>>',\n",
       " '>>oo',\n",
       " '<o>o',\n",
       " 'oo>>>>',\n",
       " '<<o>>><<__>><<',\n",
       " 'oo>><<_>>>>>',\n",
       " '<<<>>>>>>',\n",
       " '<o><<ooo>>>o',\n",
       " 'oooo',\n",
       " '____________',\n",
       " '____________',\n",
       " '<oo<ooo>o>>',\n",
       " '__________',\n",
       " '________>o',\n",
       " '<<<oo<>>>',\n",
       " '>o',\n",
       " '<<>><<oo<o>>>o',\n",
       " 'o<<o>>>oo<>>>',\n",
       " '>oo<o',\n",
       " '<o>>oo<o>>>',\n",
       " '___________',\n",
       " '___________',\n",
       " 'ooooooo>oo',\n",
       " '_______________',\n",
       " '_______________',\n",
       " 'oooooooo>o<<o',\n",
       " '<<>',\n",
       " 'oo',\n",
       " 'ooooo>>',\n",
       " 'ooooo>o',\n",
       " '<>>>><',\n",
       " '______',\n",
       " '______',\n",
       " 'o<o<>o',\n",
       " '______>oooo>ooo',\n",
       " '<<<ooo>>',\n",
       " '<o<<>>ooooo>',\n",
       " '<<______>oo___________>>>>>',\n",
       " '<<o>>o<<>o<<>>',\n",
       " '____o>>o>>>',\n",
       " 'oooo<o>>ooooo>o>>',\n",
       " '<oooo>>',\n",
       " '__________',\n",
       " '__________',\n",
       " 'oooo>oo',\n",
       " '>>o',\n",
       " 'oooo>>>o',\n",
       " '<oo>o',\n",
       " '<oo>>']"
      ]
     },
     "execution_count": 451,
     "metadata": {},
     "output_type": "execute_result"
    }
   ],
   "source": [
    "traj_str = [\n",
    "    ''.join([s.to_char() for s in l])\n",
    "    for l in pred_classes\n",
    "]\n",
    "traj_str"
   ]
  },
  {
   "cell_type": "code",
   "execution_count": 452,
   "metadata": {
    "ExecuteTime": {
     "end_time": "2019-06-21T02:45:57.587928Z",
     "start_time": "2019-06-21T02:45:57.559452Z"
    }
   },
   "outputs": [],
   "source": [
    "def traj_match(pattern):\n",
    "    matches = []\n",
    "    for i, ts in enumerate(traj_str):\n",
    "        for m in re.finditer(pattern, ts):\n",
    "            matches.append((i, m.start(0), m.end(0), m.group(0)))\n",
    "    return matches\n",
    "\n",
    "def build_traj_subseq(matches):\n",
    "    new_trajs = []\n",
    "    for (i, j, k, _) in matches:\n",
    "        traj = trajectories[i]\n",
    "        traj_parts = [\n",
    "            batch_traj[i][j2]\n",
    "            for j2 in range(j, k)\n",
    "        new_traj = copy(traj_parts[0])\n",
    "        new_traj.pos = new_traj.pos[:]\n",
    "        for t in traj_parts[1:]:\n",
    "            new_traj.pos += t.pos[:]\n",
    "        new_trajs.append(new_traj)\n",
    "    return new_trajs"
   ]
  },
  {
   "cell_type": "code",
   "execution_count": 506,
   "metadata": {
    "ExecuteTime": {
     "end_time": "2019-06-22T00:37:43.041954Z",
     "start_time": "2019-06-22T00:37:42.959011Z"
    }
   },
   "outputs": [
    {
     "data": {
      "application/vnd.jupyter.widget-view+json": {
       "model_id": "cdd7b138ee5b4fdf9cc9de9b5744728b",
       "version_major": 2,
       "version_minor": 0
      },
      "text/plain": [
       "VGridWidget(vgrid_spec={'interval_blocks': [{'video_id': 4, 'interval_sets': [{'interval_set': [{'payload': {'…"
      ]
     },
     "metadata": {},
     "output_type": "display_data"
    }
   ],
   "source": [
    ";;vgrid_traj(build_traj_subseq(traj_match('<+_+')))"
   ]
  },
  {
   "cell_type": "code",
   "execution_count": 454,
   "metadata": {
    "ExecuteTime": {
     "end_time": "2019-06-21T02:45:58.879888Z",
     "start_time": "2019-06-21T02:45:58.679142Z"
    }
   },
   "outputs": [
    {
     "data": {
      "text/plain": [
       "[<StoppedFor.Pedestrian: 1>,\n",
       " <StoppedFor.Pedestrian: 1>,\n",
       " <StoppedFor.Vehicle: 2>,\n",
       " <StoppedFor.Pedestrian: 1>]"
      ]
     },
     "execution_count": 454,
     "metadata": {},
     "output_type": "execute_result"
    }
   ],
   "source": [
    "matched_traj = traj_match('<+_+')\n",
    "\n",
    "class StoppedFor(Enum):\n",
    "    Pedestrian = 1\n",
    "    Vehicle = 2\n",
    "\n",
    "def stopped_for(match):\n",
    "    (traj_i, batch_start, batch_end, pattern) = match\n",
    "    stop_start = pattern.index('_')\n",
    "    traj = veh_trajectories[traj_i]\n",
    "    video = traj.obj.video\n",
    "    window_size = compute_window_size(video)\n",
    "    relevant_pos = traj.pos[(batch_start + stop_start) * window_size * 3:batch_end * window_size * 3]\n",
    "        \n",
    "    veh_traj = [veh for veh in veh_trajectories if veh.obj.video.id == video.id]\n",
    "    ped_traj = [ped for ped in ped_trajectories if ped.obj.video.id == video.id]\n",
    "    \n",
    "    pos = relevant_pos[0]\n",
    "    frame = pos.frame    \n",
    "    pos_arr = np.array([pos.x, pos.y])\n",
    "    obstacle_pos = pos_arr + np.array([math.cos(relevant_pos[0].psi), math.sin(relevant_pos[0].psi)]) * 0.1\n",
    "    \n",
    "    def getdist(l):\n",
    "        r = []\n",
    "        for o in l:\n",
    "            if isinstance(o, VehTraj) and o.obj.id == traj.obj.id:\n",
    "                continue\n",
    "            p = o.frame(frame)\n",
    "            if p is not None:\n",
    "                r.append([p.x, p.y])\n",
    "        r = np.array(r)\n",
    "        if len(r) == 0:\n",
    "            return [1000000]\n",
    "        return np.linalg.norm(r - pos_arr, axis=1)\n",
    "    \n",
    "    veh_dist = getdist(veh_traj)\n",
    "    ped_dist = getdist(ped_traj)\n",
    "    \n",
    "    if min(veh_dist) < min(ped_dist):\n",
    "        return StoppedFor.Vehicle\n",
    "    else:\n",
    "        return StoppedFor.Pedestrian\n",
    "    \n",
    "    \n",
    "[stopped_for(t) for t in matched_traj]"
   ]
  },
  {
   "cell_type": "code",
   "execution_count": null,
   "metadata": {},
   "outputs": [],
   "source": []
  }
 ],
 "metadata": {
  "kernelspec": {
   "display_name": "Django Shell-Plus",
   "language": "python",
   "name": "django_extensions"
  },
  "language_info": {
   "codemirror_mode": {
    "name": "ipython",
    "version": 3
   },
   "file_extension": ".py",
   "mimetype": "text/x-python",
   "name": "python",
   "nbconvert_exporter": "python",
   "pygments_lexer": "ipython3",
   "version": "3.5.2"
  },
  "toc": {
   "nav_menu": {},
   "number_sections": true,
   "sideBar": true,
   "skip_h1_title": false,
   "toc_cell": false,
   "toc_position": {},
   "toc_section_display": "block",
   "toc_window_display": false
  }
 },
 "nbformat": 4,
 "nbformat_minor": 2
}
